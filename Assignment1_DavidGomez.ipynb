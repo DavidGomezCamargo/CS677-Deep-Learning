{
  "nbformat": 4,
  "nbformat_minor": 0,
  "metadata": {
    "kernelspec": {
      "display_name": "Python 3",
      "language": "python",
      "name": "python3"
    },
    "language_info": {
      "codemirror_mode": {
        "name": "ipython",
        "version": 3
      },
      "file_extension": ".py",
      "mimetype": "text/x-python",
      "name": "python",
      "nbconvert_exporter": "python",
      "pygments_lexer": "ipython3",
      "version": "3.7.4"
    },
    "colab": {
      "provenance": []
    }
  },
  "cells": [
    {
      "cell_type": "markdown",
      "metadata": {
        "id": "Tajfsk_7JY3E"
      },
      "source": [
        "**Note to grader:** Each question consists of parts, e.g. Q1(i), Q1(ii), etc. Each part must be first graded  on a 0-4 scale, following the standard NJIT convention (A:4, B+: 3.5, B:3, C+: 2.5, C: 2, D:1, F:0). However, any given item may be worth 4 or 8 points; if an item is worth 8 points, you need to accordingly scale the 0-4 grade.\n",
        "\n",
        "\n",
        "The total score must be re-scaled to 100. That should apply to all future assignments so that Canvas assigns the same weight on all assignments.\n",
        "\n"
      ]
    },
    {
      "cell_type": "markdown",
      "metadata": {
        "id": "SArgW_Vq-uTh"
      },
      "source": [
        "# Assignment 1\n",
        "\n"
      ]
    },
    {
      "cell_type": "markdown",
      "metadata": {
        "id": "IlFM4hig-uTj"
      },
      "source": [
        "## Preparation Steps"
      ]
    },
    {
      "cell_type": "code",
      "metadata": {
        "id": "E3alYkjM-uTk"
      },
      "source": [
        "# Import all necessary python packages\n",
        "\n",
        "import numpy as np\n",
        "import torch"
      ],
      "execution_count": 1,
      "outputs": []
    },
    {
      "cell_type": "markdown",
      "metadata": {
        "id": "GfrfDK0P-uT5"
      },
      "source": [
        "## <font color = 'blue'> Question 1. Basic Operations with Tensors </font>\n",
        "\n",
        "Your task for this question is to follow the NumPy  [**tutorial**](https://jalammar.github.io/visual-numpy/?fbclid=IwAR0tSntx5mj1aHteokRKrT4G6z77M3z0Quj40AQZ9mvKlhs2RTN3xXrc6Eo) and 'mirror' each of the operations presented in the tutorial with tensors in PyTorch.\n",
        "\n",
        "You may find useful to consult this PyTorch introductory [tutorial](https://jhui.github.io/2018/02/09/PyTorch-Basic-operations/), and as always the full PyTorch [documentation](https://pytorch.org/docs/stable/torch.html) is the ultimate resource.\n",
        "\n",
        "*(Please insert cells below for your answers )*"
      ]
    },
    {
      "cell_type": "code",
      "metadata": {
        "id": "4po5m-tq-uT6",
        "colab": {
          "base_uri": "https://localhost:8080/"
        },
        "outputId": "ac511f43-e5f6-4c88-d30b-14c57fb7051c"
      },
      "source": [
        "# Creating Arrays\n",
        "\n",
        "X = np.array([1,2,3])\n",
        "X = torch.from_numpy(X)\n",
        "print(\"Tensor X: \", X)"
      ],
      "execution_count": 2,
      "outputs": [
        {
          "output_type": "stream",
          "name": "stdout",
          "text": [
            "Tensor X:  tensor([1, 2, 3])\n"
          ]
        }
      ]
    },
    {
      "cell_type": "code",
      "source": [
        "# Array Arithmetic\n",
        "\n",
        "data = np.array([1,2,3])\n",
        "data = torch.from_numpy(data)\n",
        "ones = torch.ones(3)\n",
        "zeros = torch.zeros(3)\n",
        "\n",
        "Addition = data + ones\n",
        "print(\"Addition: \", Addition)\n",
        "\n",
        "Subtraction = data - ones\n",
        "print(\"Subtraction: \", Subtraction)\n",
        "\n",
        "Multiplication = data * zeros\n",
        "print(\"Multiplication: \", Multiplication)\n",
        "\n",
        "Division = data / data\n",
        "print(\"Division: \", Division)"
      ],
      "metadata": {
        "colab": {
          "base_uri": "https://localhost:8080/"
        },
        "id": "IssgG8S2AVYm",
        "outputId": "e89a3024-339d-45f3-c147-099a4b2236d7"
      },
      "execution_count": 3,
      "outputs": [
        {
          "output_type": "stream",
          "name": "stdout",
          "text": [
            "Addition:  tensor([2., 3., 4.])\n",
            "Subtraction:  tensor([0., 1., 2.])\n",
            "Multiplication:  tensor([0., 0., 0.])\n",
            "Division:  tensor([1., 1., 1.])\n"
          ]
        }
      ]
    },
    {
      "cell_type": "code",
      "source": [
        "# Indexing\n",
        "\n",
        "data = np.array([1,2,3,4])\n",
        "data = torch.from_numpy(data)\n",
        "\n",
        "print(\"Data: \", data)\n",
        "print(\"Data[0]: \", data[0])\n",
        "print(\"Data[1]: \", data[1])\n",
        "print(\"Data[0:2]: \", data[0:2])\n",
        "print(\"Data[1:]: \", data[1:])"
      ],
      "metadata": {
        "colab": {
          "base_uri": "https://localhost:8080/"
        },
        "id": "u5NfEXl5Bdkf",
        "outputId": "b848db82-969c-4e9d-8974-91058451eb99"
      },
      "execution_count": 4,
      "outputs": [
        {
          "output_type": "stream",
          "name": "stdout",
          "text": [
            "Data:  tensor([1, 2, 3, 4])\n",
            "Data[0]:  tensor(1)\n",
            "Data[1]:  tensor(2)\n",
            "Data[0:2]:  tensor([1, 2])\n",
            "Data[1:]:  tensor([2, 3, 4])\n"
          ]
        }
      ]
    },
    {
      "cell_type": "code",
      "source": [
        "# Random Values - Aggregation\n",
        "\n",
        "data = torch.randn(6)\n",
        "\n",
        "print(\"Random Tensor: \", data)\n",
        "print(\"Maximum: \", data.max())\n",
        "print(\"Minimum: \", data.min())\n",
        "print(\"Sumation: \", data.sum())\n",
        "print(\"Mean: \", data.mean())\n",
        "print(\"Product: \", data.prod())\n",
        "print(\"Standard Deviation: \", data.std())"
      ],
      "metadata": {
        "colab": {
          "base_uri": "https://localhost:8080/"
        },
        "id": "oHLPIq7MB-SJ",
        "outputId": "b136d01c-debf-46e7-8b64-7f374b200d31"
      },
      "execution_count": 5,
      "outputs": [
        {
          "output_type": "stream",
          "name": "stdout",
          "text": [
            "Random Tensor:  tensor([ 1.3975, -1.0981, -0.4718, -0.1270,  0.7306,  1.1571])\n",
            "Maximum:  tensor(1.3975)\n",
            "Minimum:  tensor(-1.0981)\n",
            "Sumation:  tensor(1.5883)\n",
            "Mean:  tensor(0.2647)\n",
            "Product:  tensor(-0.0777)\n",
            "Standard Deviation:  tensor(0.9849)\n"
          ]
        }
      ]
    },
    {
      "cell_type": "markdown",
      "source": [
        "___"
      ],
      "metadata": {
        "id": "RyEi-WPkJRaP"
      }
    },
    {
      "cell_type": "code",
      "source": [
        "# Creating Matrices\n",
        "\n",
        "X = torch.from_numpy(np.array([[1,2],[3,4]]))\n",
        "print(\"X: \", X)\n",
        "\n",
        "Y = torch.from_numpy(np.random.random((3,2)))\n",
        "print(\"Y: \", Y)"
      ],
      "metadata": {
        "colab": {
          "base_uri": "https://localhost:8080/"
        },
        "id": "uW5LqeS4DGre",
        "outputId": "e967a7c3-af39-4cd5-b708-1670d6d726cf"
      },
      "execution_count": 6,
      "outputs": [
        {
          "output_type": "stream",
          "name": "stdout",
          "text": [
            "X:  tensor([[1, 2],\n",
            "        [3, 4]])\n",
            "Y:  tensor([[0.6409, 0.8162],\n",
            "        [0.5698, 0.5245],\n",
            "        [0.3312, 0.1215]], dtype=torch.float64)\n"
          ]
        }
      ]
    },
    {
      "cell_type": "code",
      "source": [
        "# Matrix Arithmetic\n",
        "\n",
        "data = torch.from_numpy(np.array([[1,2],[3,4],[5,6],[7,8]]))\n",
        "ones_row = torch.ones(2)\n",
        "\n",
        "print(\"Addition: \", torch.add(data, ones_row))\n",
        "print(\"Subtraction: \", torch.sub(data, ones_row))\n",
        "print(\"Multiplication: \", torch.mul(data, ones_row))\n",
        "print(\"Division: \", torch.div(data, data))"
      ],
      "metadata": {
        "colab": {
          "base_uri": "https://localhost:8080/"
        },
        "id": "0IOtCCxpDbAq",
        "outputId": "1d954e06-86a1-4f3c-8be1-17f9bdcffd49"
      },
      "execution_count": 7,
      "outputs": [
        {
          "output_type": "stream",
          "name": "stdout",
          "text": [
            "Addition:  tensor([[2., 3.],\n",
            "        [4., 5.],\n",
            "        [6., 7.],\n",
            "        [8., 9.]])\n",
            "Subtraction:  tensor([[0., 1.],\n",
            "        [2., 3.],\n",
            "        [4., 5.],\n",
            "        [6., 7.]])\n",
            "Multiplication:  tensor([[1., 2.],\n",
            "        [3., 4.],\n",
            "        [5., 6.],\n",
            "        [7., 8.]])\n",
            "Division:  tensor([[1., 1.],\n",
            "        [1., 1.],\n",
            "        [1., 1.],\n",
            "        [1., 1.]])\n"
          ]
        }
      ]
    },
    {
      "cell_type": "code",
      "source": [
        "# Random Values - Matrix Aggregation\n",
        "\n",
        "data = torch.randn(3, 2)\n",
        "\n",
        "print(\"Random Tensor: \", data)\n",
        "print(\"Maximum: \", data.max())\n",
        "print(\"Minimum: \", data.min())\n",
        "print(\"Sumation: \", data.sum())\n",
        "print(\"Mean: \", data.mean())\n",
        "print(\"Product: \", data.prod())\n",
        "print(\"Standard Deviation: \", data.std())\n",
        "print(\"Maximum(axis = 0): \", data.max(axis=0))\n",
        "print(\"Maximum(axis = 1): \", data.max(axis=1))"
      ],
      "metadata": {
        "colab": {
          "base_uri": "https://localhost:8080/"
        },
        "id": "IJfrkzotG49n",
        "outputId": "e191c341-bbc8-489d-a694-3af787e5f73e"
      },
      "execution_count": 8,
      "outputs": [
        {
          "output_type": "stream",
          "name": "stdout",
          "text": [
            "Random Tensor:  tensor([[-0.7435,  0.1815],\n",
            "        [ 0.6338,  2.0856],\n",
            "        [-2.1649, -0.5302]])\n",
            "Maximum:  tensor(2.0856)\n",
            "Minimum:  tensor(-2.1649)\n",
            "Sumation:  tensor(-0.5376)\n",
            "Mean:  tensor(-0.0896)\n",
            "Product:  tensor(-0.2048)\n",
            "Standard Deviation:  tensor(1.4323)\n",
            "Maximum(axis = 0):  torch.return_types.max(\n",
            "values=tensor([0.6338, 2.0856]),\n",
            "indices=tensor([1, 1]))\n",
            "Maximum(axis = 1):  torch.return_types.max(\n",
            "values=tensor([ 0.1815,  2.0856, -0.5302]),\n",
            "indices=tensor([1, 1, 1]))\n"
          ]
        }
      ]
    },
    {
      "cell_type": "code",
      "source": [
        "# Dot Product\n",
        "\n",
        "data = torch.from_numpy(np.array([1,2,3]))\n",
        "powers_of_ten = torch.from_numpy(np.array([[1,10],[100,1000],[10000,100000]]))\n",
        "\n",
        "val = data.matmul(powers_of_ten)\n",
        "print(\"Dot Product: \", val)"
      ],
      "metadata": {
        "colab": {
          "base_uri": "https://localhost:8080/"
        },
        "id": "2ZgxHXkLD2mp",
        "outputId": "88115e00-cda4-4b5c-987c-28516637b70d"
      },
      "execution_count": 9,
      "outputs": [
        {
          "output_type": "stream",
          "name": "stdout",
          "text": [
            "Dot Product:  tensor([ 30201, 302010])\n"
          ]
        }
      ]
    },
    {
      "cell_type": "code",
      "source": [
        "# Matrix Indexing\n",
        "\n",
        "data = torch.from_numpy(np.array([[1,2],[3,4],[5,6],[7,8]]))\n",
        "\n",
        "print(\"Data: \", data)\n",
        "print(\"Data[0]: \", data[0])\n",
        "print(\"Data[1]: \", data[1])\n",
        "print(\"Data[1:3]: \", data[1:3])\n",
        "print(\"Data[0:2,0]: \", data[0:2,0])"
      ],
      "metadata": {
        "colab": {
          "base_uri": "https://localhost:8080/"
        },
        "id": "fJ6feLCoHjda",
        "outputId": "ced16a3e-0bcb-4566-fc96-0fb45d31860d"
      },
      "execution_count": 10,
      "outputs": [
        {
          "output_type": "stream",
          "name": "stdout",
          "text": [
            "Data:  tensor([[1, 2],\n",
            "        [3, 4],\n",
            "        [5, 6],\n",
            "        [7, 8]])\n",
            "Data[0]:  tensor([1, 2])\n",
            "Data[1]:  tensor([3, 4])\n",
            "Data[1:3]:  tensor([[3, 4],\n",
            "        [5, 6]])\n",
            "Data[0:2,0]:  tensor([1, 3])\n"
          ]
        }
      ]
    },
    {
      "cell_type": "code",
      "source": [
        "# Transposing and Reshaping\n",
        "\n",
        "data = torch.from_numpy(np.array([[1,2],[3,4],[5,6]]))\n",
        "print(\"Transpose: \", data.T)\n",
        "\n",
        "data = torch.from_numpy(np.array([1,2,3,4,5,6]))\n",
        "print(\"Reshape(2,3): \", data.reshape(2,3))\n",
        "print(\"Reshape(3,2): \", data.reshape(3,2))"
      ],
      "metadata": {
        "colab": {
          "base_uri": "https://localhost:8080/"
        },
        "id": "5OGSVcylIIRT",
        "outputId": "2f0d7493-2a85-4502-9fe2-ab2a3439da55"
      },
      "execution_count": 11,
      "outputs": [
        {
          "output_type": "stream",
          "name": "stdout",
          "text": [
            "Transpose:  tensor([[1, 3, 5],\n",
            "        [2, 4, 6]])\n",
            "Reshape(2,3):  tensor([[1, 2, 3],\n",
            "        [4, 5, 6]])\n",
            "Reshape(3,2):  tensor([[1, 2],\n",
            "        [3, 4],\n",
            "        [5, 6]])\n"
          ]
        }
      ]
    },
    {
      "cell_type": "code",
      "source": [
        "# More Dimensions\n",
        "\n",
        "data = torch.from_numpy(np.array([[[1,2],[3,4]],[[5,6],[7,8]]]))\n",
        "print(\"Data: \", data)\n",
        "\n",
        "ones = torch.ones((4,3,2))\n",
        "print(\"Ones: \", ones)\n",
        "\n",
        "zeros = torch.zeros((4,3,2))\n",
        "print(\"Zeros: \", zeros)\n",
        "\n",
        "random = torch.randn((4,3,2))\n",
        "print(\"Random: \", random)"
      ],
      "metadata": {
        "colab": {
          "base_uri": "https://localhost:8080/"
        },
        "id": "q-RWrJmlIiHo",
        "outputId": "5b12e5d4-a1f2-46af-848b-9c923bb8bc28"
      },
      "execution_count": 12,
      "outputs": [
        {
          "output_type": "stream",
          "name": "stdout",
          "text": [
            "Data:  tensor([[[1, 2],\n",
            "         [3, 4]],\n",
            "\n",
            "        [[5, 6],\n",
            "         [7, 8]]])\n",
            "Ones:  tensor([[[1., 1.],\n",
            "         [1., 1.],\n",
            "         [1., 1.]],\n",
            "\n",
            "        [[1., 1.],\n",
            "         [1., 1.],\n",
            "         [1., 1.]],\n",
            "\n",
            "        [[1., 1.],\n",
            "         [1., 1.],\n",
            "         [1., 1.]],\n",
            "\n",
            "        [[1., 1.],\n",
            "         [1., 1.],\n",
            "         [1., 1.]]])\n",
            "Zeros:  tensor([[[0., 0.],\n",
            "         [0., 0.],\n",
            "         [0., 0.]],\n",
            "\n",
            "        [[0., 0.],\n",
            "         [0., 0.],\n",
            "         [0., 0.]],\n",
            "\n",
            "        [[0., 0.],\n",
            "         [0., 0.],\n",
            "         [0., 0.]],\n",
            "\n",
            "        [[0., 0.],\n",
            "         [0., 0.],\n",
            "         [0., 0.]]])\n",
            "Random:  tensor([[[ 1.1036, -0.2254],\n",
            "         [ 0.7362,  2.5609],\n",
            "         [-1.2079, -1.1592]],\n",
            "\n",
            "        [[-0.7083, -0.3261],\n",
            "         [ 0.0465,  1.6346],\n",
            "         [-0.0704, -0.1953]],\n",
            "\n",
            "        [[-0.4342,  0.4017],\n",
            "         [ 0.3204,  1.8899],\n",
            "         [ 1.5137,  1.2542]],\n",
            "\n",
            "        [[ 0.7865,  0.4548],\n",
            "         [ 0.2545, -0.1405],\n",
            "         [ 1.4739,  0.9057]]])\n"
          ]
        }
      ]
    },
    {
      "cell_type": "code",
      "source": [
        "# Formulas\n",
        "\n",
        "predictions = torch.ones(3)\n",
        "labels = torch.from_numpy(np.array([1,2,3]))\n",
        "error = (1/3)*torch.sum(torch.square(predictions-labels))\n",
        "error"
      ],
      "metadata": {
        "colab": {
          "base_uri": "https://localhost:8080/"
        },
        "id": "LpIB1TG5I59s",
        "outputId": "a5876927-0407-4de1-cb8b-829524294ad4"
      },
      "execution_count": 13,
      "outputs": [
        {
          "output_type": "execute_result",
          "data": {
            "text/plain": [
              "tensor(1.6667)"
            ]
          },
          "metadata": {},
          "execution_count": 13
        }
      ]
    },
    {
      "cell_type": "markdown",
      "source": [
        "___"
      ],
      "metadata": {
        "id": "j7IiAQnWJNQF"
      }
    },
    {
      "cell_type": "code",
      "metadata": {
        "id": "IllLoXxGAIIo"
      },
      "source": [
        "# For grader use only\n",
        "\n",
        "G = [0]*2\n",
        "\n",
        "\n",
        "# Insert grade here  (from 0 to 8)\n",
        "# G[1] =\n",
        "\n",
        "# Please justify point subtractions"
      ],
      "execution_count": null,
      "outputs": []
    },
    {
      "cell_type": "markdown",
      "source": [
        "____"
      ],
      "metadata": {
        "id": "RFyBSYyrEiFf"
      }
    },
    {
      "cell_type": "markdown",
      "metadata": {
        "id": "YMEcdAp3-uT-"
      },
      "source": [
        "##  <font color = 'blue'> Question 2. Quadratic Regression\n",
        "\n",
        "In the lecture we discussed a simple regression problem, where points are coming from the line $y = 2x + 1$, plus some noise.  For this question you are asked to:\n",
        "\n",
        "(i) Generate data points coming from a quadratic function: $ y = -x^2 + 3x +10 $, plus some noise. <br>\n",
        "(ii) Modify the PyTorch model from the class in order for it to learn a quadratic function of the form $y = a x^2 + bx +c$. <br>\n",
        "(iii) Train your model and report what values it computes. (Sanity check: These sould be close to -1, 3, 10)\n",
        "\n",
        "\n"
      ]
    },
    {
      "cell_type": "code",
      "source": [
        "import torch.optim as optim\n",
        "import torch.nn as nn\n",
        "import numpy as np\n",
        "import torch"
      ],
      "metadata": {
        "id": "64PI_eUDEWsA"
      },
      "execution_count": 14,
      "outputs": []
    },
    {
      "cell_type": "code",
      "source": [
        "# (i) Generate data points coming from a quadratic function:  y=−x2+3x+10 , plus some noise.\n",
        "\n",
        "np.random.seed(42)\n",
        "x = np.random.rand(100, 1)\n",
        "y = -x**2 + 3 * x + 10 + .1 * np.random.randn(100, 1)\n",
        "\n",
        "# Shuffles the indices\n",
        "\n",
        "idx = np.arange(100)\n",
        "np.random.shuffle(idx)\n",
        "\n",
        "# Uses first 80 random indices for train\n",
        "\n",
        "train_idx = idx[:80]\n",
        "\n",
        "# Uses the remaining indices for validation\n",
        "\n",
        "val_idx = idx[80:]\n",
        "\n",
        "# Generates train and validation sets\n",
        "\n",
        "x_train, y_train = x[train_idx], y[train_idx]\n",
        "x_val, y_val = x[val_idx], y[val_idx]\n",
        "\n",
        "print(x_train, y_train)"
      ],
      "metadata": {
        "id": "p909xMLYEXn7",
        "colab": {
          "base_uri": "https://localhost:8080/"
        },
        "outputId": "0f701c7b-5594-4643-b05a-8e3b753af013"
      },
      "execution_count": 15,
      "outputs": [
        {
          "output_type": "stream",
          "name": "stdout",
          "text": [
            "[[0.77127035]\n",
            " [0.06355835]\n",
            " [0.86310343]\n",
            " [0.02541913]\n",
            " [0.73199394]\n",
            " [0.07404465]\n",
            " [0.19871568]\n",
            " [0.31098232]\n",
            " [0.47221493]\n",
            " [0.96958463]\n",
            " [0.12203823]\n",
            " [0.77513282]\n",
            " [0.80219698]\n",
            " [0.72960618]\n",
            " [0.09767211]\n",
            " [0.18485446]\n",
            " [0.15601864]\n",
            " [0.02058449]\n",
            " [0.98688694]\n",
            " [0.62329813]\n",
            " [0.70807258]\n",
            " [0.59789998]\n",
            " [0.92187424]\n",
            " [0.63755747]\n",
            " [0.28093451]\n",
            " [0.25877998]\n",
            " [0.11959425]\n",
            " [0.72900717]\n",
            " [0.94888554]\n",
            " [0.60754485]\n",
            " [0.5612772 ]\n",
            " [0.4937956 ]\n",
            " [0.18182497]\n",
            " [0.27134903]\n",
            " [0.96990985]\n",
            " [0.21233911]\n",
            " [0.18340451]\n",
            " [0.86617615]\n",
            " [0.37454012]\n",
            " [0.29122914]\n",
            " [0.80839735]\n",
            " [0.05808361]\n",
            " [0.83244264]\n",
            " [0.54269608]\n",
            " [0.77224477]\n",
            " [0.88721274]\n",
            " [0.0884925 ]\n",
            " [0.04522729]\n",
            " [0.59241457]\n",
            " [0.68423303]\n",
            " [0.71324479]\n",
            " [0.03438852]\n",
            " [0.60111501]\n",
            " [0.81546143]\n",
            " [0.44015249]\n",
            " [0.32518332]\n",
            " [0.78517596]\n",
            " [0.76078505]\n",
            " [0.49517691]\n",
            " [0.19967378]\n",
            " [0.95071431]\n",
            " [0.29214465]\n",
            " [0.13949386]\n",
            " [0.31171108]\n",
            " [0.70685734]\n",
            " [0.11586906]\n",
            " [0.35846573]\n",
            " [0.00552212]\n",
            " [0.19598286]\n",
            " [0.89482735]\n",
            " [0.45606998]\n",
            " [0.52475643]\n",
            " [0.14092422]\n",
            " [0.06505159]\n",
            " [0.17052412]\n",
            " [0.82873751]\n",
            " [0.32533033]\n",
            " [0.93949894]\n",
            " [0.33089802]\n",
            " [0.36636184]] [[11.65095062]\n",
            " [10.25229075]\n",
            " [12.0309402 ]\n",
            " [10.10328033]\n",
            " [11.66934277]\n",
            " [10.23987671]\n",
            " [10.42461346]\n",
            " [10.73876879]\n",
            " [11.23493593]\n",
            " [11.8696059 ]\n",
            " [10.3477502 ]\n",
            " [11.6679378 ]\n",
            " [11.78153433]\n",
            " [11.77235292]\n",
            " [10.52980071]\n",
            " [10.73943776]\n",
            " [10.42174692]\n",
            " [10.15286997]\n",
            " [12.06489727]\n",
            " [11.52877712]\n",
            " [11.57267525]\n",
            " [11.28114921]\n",
            " [11.9226269 ]\n",
            " [11.42412465]\n",
            " [10.78662532]\n",
            " [10.78847606]\n",
            " [10.42668597]\n",
            " [11.69021487]\n",
            " [11.93882826]\n",
            " [11.6421424 ]\n",
            " [11.29342588]\n",
            " [11.15597167]\n",
            " [10.52212234]\n",
            " [10.70821065]\n",
            " [12.00187955]\n",
            " [10.64325618]\n",
            " [10.61344081]\n",
            " [11.7964403 ]\n",
            " [10.99204476]\n",
            " [10.64252151]\n",
            " [11.76903438]\n",
            " [10.31866653]\n",
            " [11.75139115]\n",
            " [11.46428349]\n",
            " [11.59667725]\n",
            " [11.97082939]\n",
            " [10.15141621]\n",
            " [10.04169394]\n",
            " [11.41016011]\n",
            " [11.56528815]\n",
            " [11.82069553]\n",
            " [10.21626527]\n",
            " [11.36115642]\n",
            " [11.81110541]\n",
            " [11.156878  ]\n",
            " [10.94851423]\n",
            " [11.69696206]\n",
            " [11.67902244]\n",
            " [11.12346275]\n",
            " [10.52488028]\n",
            " [11.91838449]\n",
            " [10.7915968 ]\n",
            " [10.42512857]\n",
            " [10.97824886]\n",
            " [11.64597401]\n",
            " [10.2627464 ]\n",
            " [10.97620675]\n",
            " [10.06873001]\n",
            " [10.59689855]\n",
            " [11.8334185 ]\n",
            " [11.01867305]\n",
            " [11.26613377]\n",
            " [10.24216471]\n",
            " [10.21667811]\n",
            " [10.49995168]\n",
            " [11.88075839]\n",
            " [11.02514461]\n",
            " [11.9458037 ]\n",
            " [10.76407022]\n",
            " [10.94140582]]\n"
          ]
        }
      ]
    },
    {
      "cell_type": "code",
      "source": [
        "device = 'cuda' if torch.cuda.is_available() else 'cpu'\n",
        "\n",
        "# Converting data points from numpy array to Tensor objects\n",
        "\n",
        "x_train_tensor = torch.from_numpy(x_train).float().to(device)\n",
        "y_train_tensor = torch.from_numpy(y_train).float().to(device)"
      ],
      "metadata": {
        "id": "c6XlSfZ2EaK7"
      },
      "execution_count": 16,
      "outputs": []
    },
    {
      "cell_type": "code",
      "source": [
        "# (ii) Modify the PyTorch model from the class in order for it to learn a quadratic function of the form  𝑦=𝑎𝑥**2+𝑏𝑥+𝑐 .\n",
        "\n",
        "class QuadraticRegression(nn.Module):\n",
        "    def __init__(self):\n",
        "        super().__init__()\n",
        "        # To make \"a\",\"b\" and \"c\" real parameters of the model, we need to wrap them with nn.Parameter\n",
        "        self.a = nn.Parameter(torch.randn(1, requires_grad=True, dtype=torch.float))\n",
        "        self.b = nn.Parameter(torch.randn(1, requires_grad=True, dtype=torch.float))\n",
        "        self.c = nn.Parameter(torch.randn(1, requires_grad=True, dtype=torch.float))\n",
        "\n",
        "    def forward(self, x):\n",
        "        # Computes the outputs / predictions based on the quadratic functions\n",
        "        return self.a * x**2 + self.b * x + self.c"
      ],
      "metadata": {
        "id": "i02IP9gVEb9h"
      },
      "execution_count": 17,
      "outputs": []
    },
    {
      "cell_type": "code",
      "source": [
        "# (iii) Train your model and report what values it computes.\n",
        "\n",
        "torch.manual_seed(42)\n",
        "\n",
        "# Creating a model and send it at once to the device\n",
        "model = QuadraticRegression().to(device)\n",
        "\n",
        "# Define learning rate\n",
        "lr = 1e-1\n",
        "n_epochs = 20000\n",
        "\n",
        "# Define loss function and optimizer\n",
        "loss_fn = nn.MSELoss(reduction='mean')\n",
        "optimizer = optim.SGD(model.parameters(), lr=lr)\n",
        "\n",
        "for epoch in range(n_epochs):\n",
        "    # This sets the model in 'training' mode.\n",
        "    model.train()\n",
        "    yhat = model(x_train_tensor)\n",
        "\n",
        "    loss = loss_fn(y_train_tensor, yhat)\n",
        "    loss.backward()\n",
        "    optimizer.step()\n",
        "    optimizer.zero_grad()"
      ],
      "metadata": {
        "id": "JR6DJM4GEdnl"
      },
      "execution_count": 18,
      "outputs": []
    },
    {
      "cell_type": "code",
      "source": [
        "print(model.state_dict())"
      ],
      "metadata": {
        "id": "yo6V2xzREe4h",
        "colab": {
          "base_uri": "https://localhost:8080/"
        },
        "outputId": "8033577e-01c2-42e0-cbea-4cb8d1c04e3e"
      },
      "execution_count": 19,
      "outputs": [
        {
          "output_type": "stream",
          "name": "stdout",
          "text": [
            "OrderedDict([('a', tensor([-0.8111])), ('b', tensor([2.7849])), ('c', tensor([10.0506]))])\n"
          ]
        }
      ]
    },
    {
      "cell_type": "markdown",
      "source": [
        "_____"
      ],
      "metadata": {
        "id": "3RdHfo8SEgB8"
      }
    },
    {
      "cell_type": "code",
      "metadata": {
        "id": "sBjMZF1wGaUp"
      },
      "source": [
        "# For grader use only\n",
        "\n",
        "# Insert grade here\n",
        "# Part (i): 4, part(ii) 8, part (iii) 8\n",
        "\n",
        "# G[2] =\n",
        "#\n",
        "# Please justify point subtractions"
      ],
      "execution_count": null,
      "outputs": []
    },
    {
      "cell_type": "code",
      "source": [
        "# Total score\n",
        "\n",
        "max_score = 36\n",
        "final_score = sum(G)*(100/max_score)"
      ],
      "metadata": {
        "id": "EZHVWBIjIuoy"
      },
      "execution_count": null,
      "outputs": []
    }
  ]
}